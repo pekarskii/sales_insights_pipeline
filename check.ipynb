{
 "cells": [
  {
   "cell_type": "code",
   "execution_count": null,
   "id": "initial_id",
   "metadata": {
    "collapsed": true
   },
   "outputs": [],
   "source": "import pandas as pd"
  },
  {
   "metadata": {},
   "cell_type": "code",
   "outputs": [],
   "execution_count": null,
   "source": [
    "df = pd.read_csv('sales_data.csv')\n",
    "initial_count = df.shape[0]\n",
    "df.drop_duplicates(inplace=True)\n",
    "final_count = df.shape[0]\n",
    "print(f'Удалено дубликатов: {initial_count - final_count}')\n",
    "df.to_csv('sales_data_cleaned.csv', index=False)"
   ],
   "id": "4604d534ef5267d2"
  }
 ],
 "metadata": {
  "kernelspec": {
   "display_name": "Python 3",
   "language": "python",
   "name": "python3"
  },
  "language_info": {
   "codemirror_mode": {
    "name": "ipython",
    "version": 2
   },
   "file_extension": ".py",
   "mimetype": "text/x-python",
   "name": "python",
   "nbconvert_exporter": "python",
   "pygments_lexer": "ipython2",
   "version": "2.7.6"
  }
 },
 "nbformat": 4,
 "nbformat_minor": 5
}
